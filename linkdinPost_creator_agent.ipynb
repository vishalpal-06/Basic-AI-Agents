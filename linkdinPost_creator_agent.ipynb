{
 "cells": [
  {
   "cell_type": "code",
   "execution_count": 143,
   "metadata": {},
   "outputs": [],
   "source": [
    "from langchain.prompts import ChatPromptTemplate\n",
    "import os\n",
    "from dotenv import load_dotenv\n",
    "from typing import TypedDict, Literal, Annotated\n",
    "from langgraph.graph import StateGraph, START, END\n",
    "import operator\n",
    "load_dotenv()\n",
    "\n",
    "GOOGLE_API_KEY = os.getenv(\"GOOGLE_API_KEY\")\n",
    "\n",
    "from langchain_google_genai import ChatGoogleGenerativeAI"
   ]
  },
  {
   "cell_type": "code",
   "execution_count": 144,
   "metadata": {},
   "outputs": [],
   "source": [
    "generator_llm = ChatGoogleGenerativeAI(model=\"gemini-2.0-flash\")\n",
    "evaluator_llm = ChatGoogleGenerativeAI(model=\"gemini-2.0-flash\")\n",
    "optimizer_llm = ChatGoogleGenerativeAI(model=\"gemini-2.0-flash\")"
   ]
  },
  {
   "cell_type": "code",
   "execution_count": 145,
   "metadata": {},
   "outputs": [],
   "source": [
    "# state\n",
    "class PostState(TypedDict):\n",
    "\n",
    "    topic: str\n",
    "    post: str\n",
    "    post_history: Annotated[list[str], operator.add]\n",
    "    evaluation: Literal[\"approved\", \"needs_improvement\"]\n",
    "    message: str\n",
    "    iteration: int\n",
    "    max_iteration: int"
   ]
  },
  {
   "cell_type": "code",
   "execution_count": 146,
   "metadata": {},
   "outputs": [],
   "source": [
    "def generate_post(state: PostState) -> PostState:\n",
    "    prompt = ChatPromptTemplate.from_messages([\n",
    "        (\"system\", \"You are a LinkedIn content creator.\"),\n",
    "        (\"user\", \"Write a LinkedIn post about: {topic}\")\n",
    "    ])\n",
    "    response = (prompt | generator_llm).invoke({\"topic\": state[\"topic\"]})\n",
    "    \n",
    "    return {\n",
    "        \"post\": response.content,\n",
    "        \"iteration\": 0,\n",
    "        \"post_history\": [response.content]\n",
    "    }\n"
   ]
  },
  {
   "cell_type": "code",
   "execution_count": 147,
   "metadata": {},
   "outputs": [],
   "source": [
    "def evaluate_post(state: PostState) -> PostState:\n",
    "    post = state.get(\"post\", \"\")\n",
    "    if state[\"iteration\"] >= state[\"max_iteration\"]:\n",
    "        return {\n",
    "            \"evaluation\": \"approved\",\n",
    "            \"message\": \"Post approved after maximum iterations.\"\n",
    "        }\n",
    "    if not post:\n",
    "        raise ValueError(\"Missing 'post' in state before evaluation.\")\n",
    "\n",
    "    prompt = ChatPromptTemplate.from_messages([\n",
    "        (\"system\", \"You review LinkedIn posts.\"),\n",
    "        (\"user\", \"Is this post professional and engaging?\\n\\nPost:\\n{post}\\n\\nReply with 'yes' or 'no'.\")\n",
    "    ])\n",
    "    result = (prompt | evaluator_llm).invoke({\"post\": post})\n",
    "    \n",
    "    evaluation = \"approve\" if \"yes\" in result.content.lower() else \"improve\"\n",
    "\n",
    "    return {\n",
    "        \"evaluation\": evaluation,\n",
    "        \"message\": f\"Post approved after {state['iteration']} iterations.\",\n",
    "        \"iteration\": state[\"iteration\"] + 1\n",
    "    }\n"
   ]
  },
  {
   "cell_type": "code",
   "execution_count": 148,
   "metadata": {},
   "outputs": [],
   "source": [
    "\n",
    "# 5. Node: improve_post\n",
    "def improve_post(state: PostState) -> PostState:\n",
    "    prompt = ChatPromptTemplate.from_messages([\n",
    "        (\"system\", \"You are a social media editor.\"),\n",
    "        (\"user\", \"Please improve this LinkedIn post:\\n\\n{post}\")\n",
    "    ])\n",
    "    response = (prompt | optimizer_llm).invoke({\"post\": state[\"post\"]})\n",
    "    return {\n",
    "        \"post\": response.content,\n",
    "        \"post_history\": [response.content],\n",
    "    }\n"
   ]
  },
  {
   "cell_type": "code",
   "execution_count": 149,
   "metadata": {},
   "outputs": [
    {
     "data": {
      "text/plain": [
       "<langgraph.graph.state.StateGraph at 0x11ae19720>"
      ]
     },
     "execution_count": 149,
     "metadata": {},
     "output_type": "execute_result"
    }
   ],
   "source": [
    "# Construct LangGraph\n",
    "graph = StateGraph(PostState)\n",
    "\n",
    "# Nodes\n",
    "graph.add_node(\"generate_post\", generate_post)\n",
    "graph.add_node(\"evaluate_post\", evaluate_post)\n",
    "graph.add_node(\"improve_post\", improve_post)\n",
    "# Edges\n",
    "graph.add_edge(START, \"generate_post\")\n",
    "graph.add_edge(\"generate_post\", \"evaluate_post\")\n",
    "graph.add_conditional_edges(\"evaluate_post\", lambda state: state[\"evaluation\"], {\n",
    "    \"needs_improvement\": \"improve_post\",\n",
    "    \"approve\": END\n",
    "})\n",
    "graph.add_edge(\"improve_post\", \"evaluate_post\")\n"
   ]
  },
  {
   "cell_type": "code",
   "execution_count": 150,
   "metadata": {},
   "outputs": [
    {
     "data": {
      "image/png": "[encoded data removed]",
      "text/plain": [
       "<langgraph.graph.state.CompiledStateGraph object at 0x11ae19540>"
      ]
     },
     "execution_count": 150,
     "metadata": {},
     "output_type": "execute_result"
    }
   ],
   "source": [
    "workflow = graph.compile()\n",
    "workflow"
   ]
  },
  {
   "cell_type": "code",
   "execution_count": 151,
   "metadata": {},
   "outputs": [],
   "source": [
    "# Initial State\n",
    "initial_state = PostState(\n",
    "    topic=\"Artificial Intelligence in Business\",\n",
    "    max_iteration=3\n",
    ")"
   ]
  },
  {
   "cell_type": "code",
   "execution_count": 152,
   "metadata": {},
   "outputs": [],
   "source": [
    "# Run the graph\n",
    "result = workflow.invoke(initial_state)"
   ]
  },
  {
   "cell_type": "code",
   "execution_count": 153,
   "metadata": {},
   "outputs": [
    {
     "data": {
      "text/plain": [
       "{'topic': 'Artificial Intelligence in Business',\n",
       " 'post': \"## AI: No Longer a Buzzword, But a Business Imperative 🚀\\n\\nArtificial Intelligence (AI) is rapidly transforming the business landscape, and frankly, if you're not exploring its potential, you're likely falling behind.\\n\\nWe're moving beyond the hype and seeing real, tangible results in areas like:\\n\\n*   **Automation:** Streamlining repetitive tasks, freeing up your team to focus on strategic initiatives. Think automated customer service chatbots or AI-powered invoice processing.\\n*   **Personalization:** Delivering tailored experiences to customers based on their preferences and behavior. Imagine personalized product recommendations that actually convert!\\n*   **Data Analysis:** Uncovering hidden insights within your data to make smarter, more informed decisions. Forget gut feelings, let the data guide your strategy.\\n*   **Improved Efficiency:** Optimizing processes across the board, leading to cost savings and increased productivity. Supply chain optimization, anyone?\\n\\n**But where do you even start?**\\n\\nMy advice?\\n\\n*   **Identify pain points:** Where are you struggling with efficiency, customer experience, or data analysis?\\n*   **Explore AI solutions:** Research AI-powered tools and platforms that address your specific needs.\\n*   **Start small:** Implement pilot projects to test the waters and demonstrate ROI.\\n*   **Invest in training:** Equip your team with the skills they need to leverage AI effectively.\\n\\n**What are your thoughts on AI in business? What challenges are you facing or what successes have you seen? Let's discuss in the comments! 👇**\\n\\n#AI #ArtificialIntelligence #BusinessTransformation #Innovation #FutureofWork #Technology #Automation #DataScience #Leadership #BusinessStrategy\",\n",
       " 'post_history': [\"## AI: No Longer a Buzzword, But a Business Imperative 🚀\\n\\nArtificial Intelligence (AI) is rapidly transforming the business landscape, and frankly, if you're not exploring its potential, you're likely falling behind.\\n\\nWe're moving beyond the hype and seeing real, tangible results in areas like:\\n\\n*   **Automation:** Streamlining repetitive tasks, freeing up your team to focus on strategic initiatives. Think automated customer service chatbots or AI-powered invoice processing.\\n*   **Personalization:** Delivering tailored experiences to customers based on their preferences and behavior. Imagine personalized product recommendations that actually convert!\\n*   **Data Analysis:** Uncovering hidden insights within your data to make smarter, more informed decisions. Forget gut feelings, let the data guide your strategy.\\n*   **Improved Efficiency:** Optimizing processes across the board, leading to cost savings and increased productivity. Supply chain optimization, anyone?\\n\\n**But where do you even start?**\\n\\nMy advice?\\n\\n*   **Identify pain points:** Where are you struggling with efficiency, customer experience, or data analysis?\\n*   **Explore AI solutions:** Research AI-powered tools and platforms that address your specific needs.\\n*   **Start small:** Implement pilot projects to test the waters and demonstrate ROI.\\n*   **Invest in training:** Equip your team with the skills they need to leverage AI effectively.\\n\\n**What are your thoughts on AI in business? What challenges are you facing or what successes have you seen? Let's discuss in the comments! 👇**\\n\\n#AI #ArtificialIntelligence #BusinessTransformation #Innovation #FutureofWork #Technology #Automation #DataScience #Leadership #BusinessStrategy\"],\n",
       " 'evaluation': 'approve',\n",
       " 'message': 'Post approved after 0 iterations.',\n",
       " 'iteration': 1,\n",
       " 'max_iteration': 3}"
      ]
     },
     "execution_count": 153,
     "metadata": {},
     "output_type": "execute_result"
    }
   ],
   "source": [
    "result"
   ]
  },
  {
   "cell_type": "markdown",
   "metadata": {},
   "source": [
    "## AI: No Longer a Buzzword, But a Business Imperative 🚀\n",
    "\n",
    "Artificial Intelligence (AI) is rapidly transforming the business landscape, and frankly, if you're not exploring its potential, you're likely falling behind.\n",
    "\n",
    "We're moving beyond the hype and seeing real, tangible results in areas like:\n",
    "\n",
    "*   **Automation:** Streamlining repetitive tasks, freeing up your team to focus on strategic initiatives. Think automated customer service chatbots or AI-powered invoice processing.\n",
    "*   **Personalization:** Delivering tailored experiences to customers based on their preferences and behavior. Imagine personalized product recommendations that actually convert!\n",
    "*   **Data Analysis:** Uncovering hidden insights within your data to make smarter, more informed decisions. Forget gut feelings, let the data guide your strategy.\n",
    "*   **Improved Efficiency:** Optimizing processes across the board, leading to cost savings and increased productivity. Supply chain optimization, anyone?\n",
    "\n",
    "**But where do you even start?**\n",
    "\n",
    "My advice?\n",
    "\n",
    "*   **Identify pain points:** Where are you struggling with efficiency, customer experience, or data analysis?\n",
    "*   **Explore AI solutions:** Research AI-powered tools and platforms that address your specific needs.\n",
    "*   **Start small:** Implement pilot projects to test the waters and demonstrate ROI.\n",
    "*   **Invest in training:** Equip your team with the skills they need to leverage AI effectively.\n",
    "\n",
    "**What are your thoughts on AI in business? What challenges are you facing or what successes have you seen? Let's discuss in the comments! 👇**\n",
    "\n",
    "#AI #ArtificialIntelligence #BusinessTransformation #Innovation #FutureofWork #Technology #Automation #DataScience #Leadership #BusinessStrategy"
   ]
  },
  {
   "cell_type": "code",
   "execution_count": null,
   "metadata": {},
   "outputs": [],
   "source": []
  }
 ],
 "metadata": {
  "kernelspec": {
   "display_name": "venv",
   "language": "python",
   "name": "python3"
  },
  "language_info": {
   "codemirror_mode": {
    "name": "ipython",
    "version": 3
   },
   "file_extension": ".py",
   "mimetype": "text/x-python",
   "name": "python",
   "nbconvert_exporter": "python",
   "pygments_lexer": "ipython3",
   "version": "3.10.0"
  }
 },
 "nbformat": 4,
 "nbformat_minor": 2
}
