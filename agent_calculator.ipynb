{
 "cells": [
  {
   "cell_type": "code",
   "execution_count": 1,
   "metadata": {},
   "outputs": [
    {
     "name": "stderr",
     "output_type": "stream",
     "text": [
      "f:\\projects\\Basic-AI-Agents\\venv\\Lib\\site-packages\\tqdm\\auto.py:21: TqdmWarning: IProgress not found. Please update jupyter and ipywidgets. See https://ipywidgets.readthedocs.io/en/stable/user_install.html\n",
      "  from .autonotebook import tqdm as notebook_tqdm\n"
     ]
    }
   ],
   "source": [
    "import os\n",
    "from dotenv import load_dotenv\n",
    "from pydantic import BaseModel, Field\n",
    "from typing import TypedDict, Literal, Optional\n",
    "load_dotenv()\n",
    "\n",
    "GOOGLE_API_KEY = os.getenv(\"GOOGLE_API_KEY\")\n",
    "\n",
    "from langchain_google_genai import ChatGoogleGenerativeAI\n",
    "model = ChatGoogleGenerativeAI(model=\"gemini-2.0-flash\")"
   ]
  },
  {
   "cell_type": "code",
   "execution_count": 2,
   "metadata": {},
   "outputs": [],
   "source": [
    "# --- Define State Type ---\n",
    "class myState(TypedDict):\n",
    "    query: str \n",
    "    operation: str\n",
    "    number1: int\n",
    "    number2: int\n",
    "    result: str"
   ]
  },
  {
   "cell_type": "code",
   "execution_count": null,
   "metadata": {},
   "outputs": [],
   "source": [
    "# --- Define Schema for Operation Classification ---\n",
    "class task_schema(BaseModel):\n",
    "    task: Literal[\"Add\", \"Sub\", \"Div\", \"Mul\", \"Mod\", \"Other\"]\n",
    "    number1: Optional[int] = Field(..., description=\"First number for the operation, if operation is not 'Other'\")\n",
    "    number2: Optional[int] = Field(..., description=\"Second number for the operation, if operation is not 'Other'\")\n",
    "\n",
    "task_model = model.with_structured_output(task_schema)\n"
   ]
  },
  {
   "cell_type": "code",
   "execution_count": 4,
   "metadata": {},
   "outputs": [],
   "source": [
    "# --- Task Detection Function ---\n",
    "def find_task(state: myState) -> myState:\n",
    "    prompt = (\n",
    "        f\"Based on the given text, identify which task the user wants to perform: \"\n",
    "        f\"'Add', 'Sub', 'Div', 'Mul', 'Mod', or 'Other'. \"\n",
    "        f\"Text: {state['query']}\"\n",
    "    )\n",
    "    model_response = task_model.invoke(prompt)\n",
    "    state['operation'] = model_response.task.strip().capitalize()\n",
    "    if state['operation'] == 'Other':\n",
    "        state['number1'] = None\n",
    "        state['number2'] = None\n",
    "    else:\n",
    "        # Ensure number1 and number2 are predicted by the model\n",
    "        state['number1'] = model_response.number1\n",
    "        state['number2'] = model_response.number2\n",
    "    return state"
   ]
  },
  {
   "cell_type": "code",
   "execution_count": 5,
   "metadata": {},
   "outputs": [],
   "source": [
    "# --- Operation Functions ---\n",
    "def Add(state: myState) -> myState:\n",
    "    state['result'] = str(state['number1'] + state['number2'])\n",
    "    return state\n",
    "\n",
    "def Sub(state: myState) -> myState: \n",
    "    state['result'] = str(state['number1'] - state['number2'])\n",
    "    return state\n",
    "\n",
    "def Div(state: myState) -> myState:\n",
    "    if state['number2'] == 0:\n",
    "        state['result'] = \"Error: Division by zero\"\n",
    "    else:\n",
    "        state['result'] = str(state['number1'] / state['number2'])\n",
    "    return state\n",
    "\n",
    "def Mul(state: myState) -> myState:\n",
    "    state['result'] = str(state['number1'] * state['number2'])\n",
    "    return state\n",
    "\n",
    "def Mod(state: myState) -> myState:\n",
    "    if state['number2'] == 0:\n",
    "        state['result'] = \"Error: Modulo by zero\"\n",
    "    else:\n",
    "        state['result'] = str(state['number1'] % state['number2'])\n",
    "    return state\n",
    "\n",
    "\n",
    "def Other(state: myState) -> myState:\n",
    "    prompt = (\n",
    "        f\"You are a helpful assistant. \"\n",
    "        f\"A user sent the following query: {state['query']}. \"\n",
    "        f\"It does not match any calculator operation like Add, Sub, Div, Mul, or Mod.\\n\\n\"\n",
    "        f\"Reply with a plain, friendly single-sentence answer without markdown, formatting, or multiple options.\"\n",
    "    )\n",
    "    res = model.invoke(prompt)\n",
    "    state['result'] = res.content\n",
    "    return state\n",
    "\n",
    "\n",
    "\n",
    "# --- Router Function ---\n",
    "def pass_state(state: myState) -> myState:\n",
    "    return state\n",
    "\n",
    "def route_decision(state: myState) -> str:\n",
    "    return state[\"operation\"]\n"
   ]
  },
  {
   "cell_type": "code",
   "execution_count": 6,
   "metadata": {},
   "outputs": [],
   "source": [
    "# --- LangGraph ---\n",
    "from langgraph.graph import StateGraph, START, END\n",
    "\n",
    "graph = StateGraph(myState)\n",
    "\n",
    "graph.add_node(\"find_task\", find_task)\n",
    "graph.add_node(\"route_task\", pass_state) \n",
    "\n",
    "# Operation nodes\n",
    "graph.add_node(\"Add\", Add)\n",
    "graph.add_node(\"Sub\", Sub)\n",
    "graph.add_node(\"Mul\", Mul)\n",
    "graph.add_node(\"Div\", Div)\n",
    "graph.add_node(\"Mod\", Mod)\n",
    "graph.add_node(\"Other\", Other)\n",
    "\n",
    "# Static edges\n",
    "graph.add_edge(START, \"find_task\")\n",
    "graph.add_edge(\"find_task\", \"route_task\")\n",
    "\n",
    "# Conditional edge using separate decision function\n",
    "graph.add_conditional_edges(\"route_task\", route_decision, {\n",
    "    \"Add\": \"Add\",\n",
    "    \"Sub\": \"Sub\",\n",
    "    \"Div\": \"Div\",\n",
    "    \"Mul\": \"Mul\",\n",
    "    \"Mod\": \"Mod\",\n",
    "    \"Other\": \"Other\"\n",
    "})\n",
    "\n",
    "# All operation nodes go to END\n",
    "for op in [\"Add\", \"Sub\", \"Div\", \"Mul\", \"Mod\", \"Other\"]:\n",
    "    graph.add_edge(op, END)\n",
    "\n",
    "\n",
    "workflow = graph.compile()"
   ]
  },
  {
   "cell_type": "code",
   "execution_count": 7,
   "metadata": {},
   "outputs": [
    {
     "data": {
      "image/png": "[encoded data removed]",
      "text/plain": [
       "<langgraph.graph.state.CompiledStateGraph object at 0x00000212F7BA0B60>"
      ]
     },
     "execution_count": 7,
     "metadata": {},
     "output_type": "execute_result"
    }
   ],
   "source": [
    "workflow"
   ]
  },
  {
   "cell_type": "code",
   "execution_count": 8,
   "metadata": {},
   "outputs": [
    {
     "data": {
      "text/plain": [
       "{'query': 'What is 5 % 5?',\n",
       " 'operation': 'Mod',\n",
       " 'number1': 5,\n",
       " 'number2': 5,\n",
       " 'result': '0'}"
      ]
     },
     "execution_count": 8,
     "metadata": {},
     "output_type": "execute_result"
    }
   ],
   "source": [
    "workflow.invoke({\"query\": \"What is 5 % 5?\"})"
   ]
  },
  {
   "cell_type": "code",
   "execution_count": 9,
   "metadata": {},
   "outputs": [
    {
     "data": {
      "text/plain": [
       "{'query': 'i want to subtract 10 from 20',\n",
       " 'operation': 'Sub',\n",
       " 'number1': 20,\n",
       " 'number2': 10,\n",
       " 'result': '10'}"
      ]
     },
     "execution_count": 9,
     "metadata": {},
     "output_type": "execute_result"
    }
   ],
   "source": [
    "workflow.invoke({\"query\": \"i want to subtract 10 from 20\"})"
   ]
  },
  {
   "cell_type": "code",
   "execution_count": 14,
   "metadata": {},
   "outputs": [
    {
     "data": {
      "text/plain": [
       "{'query': 'I love my life',\n",
       " 'operation': 'Other',\n",
       " 'number1': None,\n",
       " 'number2': None,\n",
       " 'result': \"That's wonderful to hear!\"}"
      ]
     },
     "execution_count": 14,
     "metadata": {},
     "output_type": "execute_result"
    }
   ],
   "source": [
    "os.environ[\"LANGSMITH_PROJECT\"] = \"default\"\n",
    "workflow.invoke({\"query\": \"I love my life\"})"
   ]
  },
  {
   "cell_type": "code",
   "execution_count": 11,
   "metadata": {},
   "outputs": [
    {
     "data": {
      "text/plain": [
       "{'query': 'Who are you?, and how are you?',\n",
       " 'operation': 'Other',\n",
       " 'number1': None,\n",
       " 'number2': None,\n",
       " 'result': 'I am a large language model, and I am doing well, thank you for asking.'}"
      ]
     },
     "execution_count": 11,
     "metadata": {},
     "output_type": "execute_result"
    }
   ],
   "source": [
    "workflow.invoke({\"query\": \"Who are you?, and how are you?\"})"
   ]
  },
  {
   "cell_type": "code",
   "execution_count": null,
   "metadata": {},
   "outputs": [],
   "source": []
  }
 ],
 "metadata": {
  "kernelspec": {
   "display_name": "venv",
   "language": "python",
   "name": "python3"
  },
  "language_info": {
   "codemirror_mode": {
    "name": "ipython",
    "version": 3
   },
   "file_extension": ".py",
   "mimetype": "text/x-python",
   "name": "python",
   "nbconvert_exporter": "python",
   "pygments_lexer": "ipython3",
   "version": "3.12.3"
  }
 },
 "nbformat": 4,
 "nbformat_minor": 2
}
